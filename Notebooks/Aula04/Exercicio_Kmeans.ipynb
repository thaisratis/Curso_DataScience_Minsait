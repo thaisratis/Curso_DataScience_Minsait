{
 "cells": [
  {
   "cell_type": "markdown",
   "id": "ffcb22fd",
   "metadata": {},
   "source": [
    "# Exercício"
   ]
  },
  {
   "cell_type": "markdown",
   "id": "de0e1681",
   "metadata": {},
   "source": [
    "# Kmeans"
   ]
  },
  {
   "cell_type": "markdown",
   "id": "6d0f5db4",
   "metadata": {},
   "source": [
    "**Segmentação de Clientes com K-Means**\n",
    "\n",
    "**Arquivo Mall_Customers.csv**\n",
    "\n",
    "**Passos:**\n",
    "\n",
    "1. Carregue o conjunto de dados de clientes de um arquivo CSV usando a biblioteca pandas.\n",
    "2. Explore e visualize os dados para entender suas características e distribuição.\n",
    "3. Selecione as colunas relevantes para a segmentação, como idade, renda anual e gastos anuais.\n",
    "4. Pré-processe os dados, se necessário (normalização, tratamento de valores ausentes, etc.).\n",
    "5. Importe a classe `KMeans` da biblioteca scikit-learn.\n",
    "6. Inicialize o modelo K-Means com um número de clusters desejado.\n",
    "7. Treine o modelo usando os dados pré-processados.\n",
    "8. Obtenha os rótulos de cluster para cada cliente no conjunto de dados.\n",
    "9. Analise e interprete os clusters resultantes.\n",
    "10. Visualize os clusters para entender como os clientes estão agrupados.\n",
    "11. Explore diferentes números de clusters para encontrar a melhor segmentação.\n"
   ]
  }
 ],
 "metadata": {
  "kernelspec": {
   "display_name": "Python 3 (ipykernel)",
   "language": "python",
   "name": "python3"
  },
  "language_info": {
   "codemirror_mode": {
    "name": "ipython",
    "version": 3
   },
   "file_extension": ".py",
   "mimetype": "text/x-python",
   "name": "python",
   "nbconvert_exporter": "python",
   "pygments_lexer": "ipython3",
   "version": "3.9.7"
  }
 },
 "nbformat": 4,
 "nbformat_minor": 5
}
