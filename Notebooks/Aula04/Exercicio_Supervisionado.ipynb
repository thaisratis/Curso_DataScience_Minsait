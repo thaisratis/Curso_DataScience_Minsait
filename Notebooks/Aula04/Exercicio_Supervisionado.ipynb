{
 "cells": [
  {
   "cell_type": "markdown",
   "id": "ffcb22fd",
   "metadata": {},
   "source": [
    "# Exercício"
   ]
  },
  {
   "cell_type": "markdown",
   "id": "de0e1681",
   "metadata": {},
   "source": [
    "# Regressão"
   ]
  },
  {
   "cell_type": "markdown",
   "id": "6d0f5db4",
   "metadata": {},
   "source": [
    "**Exercício: Prever o preço dos diamantes**\n",
    "\n",
    "**Arquivo diamonds.csv**\n",
    "\n",
    "KNN:\n",
    "1. Testar outros valores de k e outras métricas de distância\n",
    "2. Rodar o KNN apenas utilizando os atributos que estão altamente correlacionados com o preço\n",
    "\n",
    "Ou\n",
    "Regressão Linear:\n",
    "1. Testar a predição utilizando o modelo de regressão linear (`LinearRegression`)"
   ]
  },
  {
   "cell_type": "markdown",
   "id": "81f24fc9",
   "metadata": {},
   "source": [
    "# Classificação"
   ]
  },
  {
   "cell_type": "markdown",
   "id": "8672e280",
   "metadata": {},
   "source": [
    "**Exercício: Classificação de Espécies de Flores**\n",
    "\n",
    "**Arquivo iris.csv**\n",
    "\n",
    "**Passos:**\n",
    "\n",
    "1. Carregue o conjunto de dados em um DataFrame usando a biblioteca pandas.\n",
    "2. Explore e visualize os dados para entender suas características.\n",
    "3. Divida os dados em recursos (X) e rótulos (y).\n",
    "4. Divida o conjunto de dados em conjuntos de treinamento e teste.\n",
    "   \n",
    "5. Caso use árvore de decisão:\n",
    "   1. Importe a classe `DecisionTreeClassifier` da biblioteca scikit-learn.\n",
    "   2. Inicialize o modelo de árvore de decisão.\n",
    "   3. Treine o modelo usando o conjunto de treinamento.\n",
    "   4. Faça previsões usando o conjunto de teste.\n",
    "   5. Avalie o desempenho do modelo usando métricas como acurácia, matriz de confusão, etc.\n",
    "   6.  Visualize a árvore de decisão resultante (opcional).\n",
    "   \n",
    "6. Caso use KNN:\n",
    "   1. Importe a classe `KNeighborsClassifier` da biblioteca scikit-learn.\n",
    "   2. Inicialize o modelo k-NN com um valor de k desejado.\n",
    "   3. Treine o modelo usando o conjunto de treinamento.\n",
    "   4. Faça previsões usando o conjunto de teste.\n",
    "   5. Avalie o desempenho do modelo usando métricas como acurácia, matriz de confusão, etc.\n",
    "   6. Experimente diferentes valores de k e avalie como eles afetam o desempenho."
   ]
  }
 ],
 "metadata": {
  "kernelspec": {
   "display_name": "Python 3 (ipykernel)",
   "language": "python",
   "name": "python3"
  },
  "language_info": {
   "codemirror_mode": {
    "name": "ipython",
    "version": 3
   },
   "file_extension": ".py",
   "mimetype": "text/x-python",
   "name": "python",
   "nbconvert_exporter": "python",
   "pygments_lexer": "ipython3",
   "version": "3.9.7"
  }
 },
 "nbformat": 4,
 "nbformat_minor": 5
}
