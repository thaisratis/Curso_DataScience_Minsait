{
 "cells": [
  {
   "cell_type": "markdown",
   "id": "ffcb22fd",
   "metadata": {},
   "source": [
    "# Exercício"
   ]
  },
  {
   "cell_type": "markdown",
   "id": "6d0f5db4",
   "metadata": {},
   "source": [
    "Problema: Teste de Hipótese sobre Média de Amostra\n",
    "\n",
    "Um nutricionista afirma que a média de calorias consumidas por dia pelos seus pacientes é igual a 2000 calorias. Para testar essa afirmação, um pesquisador coleta uma amostra de 30 pacientes e registra o número de calorias consumidas por dia. Os dados coletados são: 1950, 1980, 2010, 1995, 2025, 2050, 1975, 2005, 1960, 2040, 2035, 2055, 1940, 1970, 2030, 2000, 2065, 1975, 1985, 2015, 1990, 2060, 2050, 1970, 1985, 2005, 2030, 2020, 1995, 1945, 1975.\n",
    "\n",
    "O pesquisador suspeita que a média real pode ser diferente de 2000 calorias. Usando um nível de significância de 0,05, você pode concluir que as calorias médias consumidas diferem da alegação do nutricionista?\n"
   ]
  }
 ],
 "metadata": {
  "kernelspec": {
   "display_name": "Python 3 (ipykernel)",
   "language": "python",
   "name": "python3"
  },
  "language_info": {
   "codemirror_mode": {
    "name": "ipython",
    "version": 3
   },
   "file_extension": ".py",
   "mimetype": "text/x-python",
   "name": "python",
   "nbconvert_exporter": "python",
   "pygments_lexer": "ipython3",
   "version": "3.9.7"
  }
 },
 "nbformat": 4,
 "nbformat_minor": 5
}
