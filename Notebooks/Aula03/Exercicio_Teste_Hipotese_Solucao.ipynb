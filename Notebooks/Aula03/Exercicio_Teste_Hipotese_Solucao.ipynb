{
 "cells": [
  {
   "cell_type": "markdown",
   "id": "ffcb22fd",
   "metadata": {},
   "source": [
    "# Exercício"
   ]
  },
  {
   "cell_type": "markdown",
   "id": "6d0f5db4",
   "metadata": {},
   "source": [
    "Problema: Teste de Hipótese sobre Média de Amostra\n",
    "\n",
    "Um nutricionista afirma que a média de calorias consumidas por dia pelos seus pacientes é igual a 2000 calorias. Para testar essa afirmação, um pesquisador coleta uma amostra de 30 pacientes e registra o número de calorias consumidas por dia. Os dados coletados são: 1950, 1980, 2010, 1995, 2025, 2050, 1975, 2005, 1960, 2040, 2035, 2055, 1940, 1970, 2030, 2000, 2065, 1975, 1985, 2015, 1990, 2060, 2050, 1970, 1985, 2005, 2030, 2020, 1995, 1945, 1975.\n",
    "\n",
    "O pesquisador suspeita que a média real pode ser diferente de 2000 calorias. Usando um nível de significância de 0,05, você pode concluir que as calorias médias consumidas diferem da alegação do nutricionista?\n"
   ]
  },
  {
   "cell_type": "code",
   "execution_count": 8,
   "id": "0990d305",
   "metadata": {},
   "outputs": [],
   "source": [
    "import pandas as pd\n",
    "import numpy as np\n",
    "from scipy.stats import norm\n"
   ]
  },
  {
   "cell_type": "code",
   "execution_count": 7,
   "id": "b4fb5344",
   "metadata": {},
   "outputs": [
    {
     "name": "stdout",
     "output_type": "stream",
     "text": [
      "Z crítico para a probabilidade para 95%:  1.6448536269514722\n",
      "Valor crítico:  2010.3808428851332  cal\n",
      "Teste de Hipótese: \n",
      "Aceitamos H0\n"
     ]
    }
   ],
   "source": [
    "calorias = np.array([1950, 1980, 2010, 1995, 2025, 2050, 1975, 2005, 1960, 2040,\n",
    "                                2035, 2055, 1940, 1970, 2030, 2000, 2065, 1975, 1985, 2015,\n",
    "                                1990, 2060, 2050, 1970, 1985, 2005, 2030, 2020, 1995, 1945, 1975])\n",
    "\n",
    "\n",
    "# Cálculo do Z crítico para a probabilidade de 95%\n",
    "prob = norm.ppf(0.95)\n",
    "\n",
    "# Mostra o valor da probabilidade para 95%\n",
    "print(\"Z crítico para a probabilidade para 95%: \", prob)\n",
    "\n",
    "# Parâmetros para o teste\n",
    "mu = 2000            # média\n",
    "sigma = np.std(calorias, ddof=1)  # Usamos ddof=1 para calcular o desvio padrão amostral # desvio padrão\n",
    "n = len(calorias)             # tamanho da amostra\n",
    "\n",
    "# Cálculo do valor crítico\n",
    "Xc = mu + (sigma/np.sqrt(n))*prob\n",
    "\n",
    "# Mostra o valor crítico\n",
    "print(\"Valor crítico: \", Xc, \" cal\")\n",
    "\n",
    "# Calculando a média das observações\n",
    "Xobs = np.mean(calorias)\n",
    "\n",
    "# Verificando se o valor médio ultrapassa o valor crítico\n",
    "print(\"Teste de Hipótese: \")\n",
    "if(Xobs < Xc):\n",
    "    print(\"Aceitamos H0\")\n",
    "else:\n",
    "    print(\"Rejeitamos H0\")"
   ]
  }
 ],
 "metadata": {
  "kernelspec": {
   "display_name": "Python 3 (ipykernel)",
   "language": "python",
   "name": "python3"
  },
  "language_info": {
   "codemirror_mode": {
    "name": "ipython",
    "version": 3
   },
   "file_extension": ".py",
   "mimetype": "text/x-python",
   "name": "python",
   "nbconvert_exporter": "python",
   "pygments_lexer": "ipython3",
   "version": "3.9.7"
  }
 },
 "nbformat": 4,
 "nbformat_minor": 5
}
