{
 "cells": [
  {
   "cell_type": "markdown",
   "id": "ffcb22fd",
   "metadata": {},
   "source": [
    "# Exercício"
   ]
  },
  {
   "cell_type": "markdown",
   "id": "de0e1681",
   "metadata": {},
   "source": [
    "# Parte 1"
   ]
  },
  {
   "cell_type": "markdown",
   "id": "6d0f5db4",
   "metadata": {},
   "source": [
    "**Usar o dado: world-data-2023.csv**\n",
    "\n",
    "1. **Leitura e Carregamento de Dados:**\n",
    "   - Usar bibliotecas como Pandas para carregar dados de diferentes fontes (CSV, Excel, SQL, etc.).\n",
    "\n",
    "2. **Padronização:**\n",
    "   - Padronizar as colunas de valores, deixar todas como tipo flutuante.\n",
    "\n",
    "3. **Duplicados:**\n",
    "   - Checar se exeistem dados duplicados.\n",
    "\n",
    "4. **Dados faltantes:**\n",
    "   - Checar se existem dados faltantes e substituí-los ou removê-los.\n",
    "\n",
    "5. **Tratamento de Dados Categóricos:**\n",
    "   - Converter variáveis categóricas em numéricas usando codificação one-hot (pandas `get_dummies`) ou Label Encoding (scikit-learn `LabelEncoder`).\n",
    "\n",
    "6. **Redução de Dimensionalidade:**\n",
    "   - Usar técnicas como PCA (Análise de Componentes Principais) para reduzir a dimensionalidade de dados.\n",
    "\n",
    "7. **Estatisticas:**\n",
    "   - Usar a função describe nos dados\n",
    "  \n",
    "8. **Medidas Básicas:**\n",
    "   - Criar um dataframe com as medidas básicas de cada coluna (média, mediana, variância e desvio padrão).\n",
    "\n",
    "9.  **Detectar e remover outliers:**\n",
    "    - Criar uma função que detecte e remova os outliers dos dados usando o método de intervalo interquartil (IQR).\n",
    "\n",
    "10. **Correlação:**\n",
    "    - Verificar a correlação entre as variáveis.\n",
    "\n",
    "11. **Normalização:**\n",
    "    - Normalizar dados numéricos para terem média zero e desvio padrão 1 usando `StandardScaler` do scikit-learn."
   ]
  },
  {
   "cell_type": "code",
   "execution_count": null,
   "id": "4e464291",
   "metadata": {},
   "outputs": [],
   "source": []
  },
  {
   "cell_type": "markdown",
   "id": "81f24fc9",
   "metadata": {},
   "source": [
    "# Parte 2"
   ]
  },
  {
   "cell_type": "markdown",
   "id": "44e7b06d",
   "metadata": {},
   "source": [
    "**Perguntas**\n",
    "\n",
    "Q1: Quais são os 10 países com a Maior Área Terrestre (Km²)?\n",
    "\n",
    "Q2: Considerando todos os países, qual deles possui mais espaço dedicado à agricultura?\n",
    "\n",
    "Q3: Considerando todos os países, qual deles possui a maior porcentagem de Área Florestal?\n",
    "\n",
    "Q4: Qual país possui a maior população?\n",
    "\n",
    "Q5: Considerando todos os países, qual é a porcentagem da população que vive em Áreas Urbanas? E a porcentagem da população por país vivendo em Áreas Urbanas?\n",
    "\n",
    "Q6: Quais são os 10 países com a maior porcentagem de população vivendo em Áreas Rurais?\n",
    "\n",
    "Q7: Quais são os 10 países com o preço mais alto da gasolina?\n",
    "\n",
    "Q8: Quais são os 10 países com o maior e o menor GDP?\n",
    "\n",
    "Q9: Qual é o idioma mais falado?\n",
    "\n",
    "Q10: Quais são os países com as maiores emissões de CO2?\n",
    "\n",
    "Q11: Quais são os países com a maior média de expectativa de vida?\n",
    "\n",
    "Q12: Dentre os Top 10 com maior média de expectativa de vida, qual o país com a maior porcentagem de população vivendo em Áreas Rurais?"
   ]
  },
  {
   "cell_type": "code",
   "execution_count": null,
   "id": "f711e6e5",
   "metadata": {},
   "outputs": [],
   "source": []
  }
 ],
 "metadata": {
  "kernelspec": {
   "display_name": "Python 3 (ipykernel)",
   "language": "python",
   "name": "python3"
  },
  "language_info": {
   "codemirror_mode": {
    "name": "ipython",
    "version": 3
   },
   "file_extension": ".py",
   "mimetype": "text/x-python",
   "name": "python",
   "nbconvert_exporter": "python",
   "pygments_lexer": "ipython3",
   "version": "3.9.7"
  }
 },
 "nbformat": 4,
 "nbformat_minor": 5
}
